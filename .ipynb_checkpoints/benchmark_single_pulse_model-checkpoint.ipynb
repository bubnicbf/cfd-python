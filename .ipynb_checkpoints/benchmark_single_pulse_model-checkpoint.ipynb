{
 "cells": [
  {
   "cell_type": "markdown",
   "metadata": {},
   "source": [
    "# Single Pulse Model"
   ]
  },
  {
   "cell_type": "markdown",
   "metadata": {},
   "source": [
    "## Mathematical Model\n",
    "\n",
    "$$\n",
    "\\begin{cases}\\begin{matrix}\n",
    "\\frac{\\partial A} {\\partial t} + \\frac{\\partial (AU)} {\\partial x} = 0 \\cr\n",
    "\\frac{\\partial U} {\\partial t} + U\\frac{\\partial U} {\\partial x} + \\frac {1} {\\rho} \\frac {\\partial P} {\\partial x}= \\frac {f} {\\rho A}\n",
    "\\end{matrix}\\;(1) \\end{cases}\n",
    "$$"
   ]
  },
  {
   "cell_type": "markdown",
   "metadata": {},
   "source": [
    "\\begin{align}\n",
    "f = -2(\\zeta + 2) \\mu \\pi U\n",
    "\\end{align}"
   ]
  },
  {
   "cell_type": "markdown",
   "metadata": {},
   "source": [
    "\\begin{align}\n",
    "\\begin{matrix}\n",
    "P - P_{ext} = P_d + \\frac {\\beta} {A_d}(\\sqrt{A} - \\sqrt{A_d}) \\\\\n",
    "\\beta(x) = \\frac {4} {3} \\sqrt(\\pi) E h \n",
    "\\end{matrix} \\;(3)\n",
    "\\end{align}"
   ]
  },
  {
   "cell_type": "markdown",
   "metadata": {},
   "source": [
    "#### For continuous solution,\n",
    "\\begin{align}\n",
    "Q_{in}(t) = 10^{-6} \\: exp(-10000(t-0.05)^2) \\: m^3s^{-1} \\; (14)\n",
    "\\end{align}"
   ]
  },
  {
   "cell_type": "markdown",
   "metadata": {},
   "source": [
    "#### Given assumption\n",
    "$$ A_{d} = A_{0}, \\; P_d = P_{ext} = 0$$ "
   ]
  },
  {
   "cell_type": "markdown",
   "metadata": {},
   "source": [
    "## Parameters\n",
    "### Table2\n",
    "$\n",
    "L = 10 \\\\\n",
    "A_{0} = \\pi \\; cm^2 \\\\\n",
    "A(x,0) = A_{0} \\\\\n",
    "U(x,0) = 0 \\\\\n",
    "P(x,0) = 0 \\\\\n",
    "h = 1.5 mm \\\\\n",
    "P = 1050 \\; kg\\:m^{-3} \\\\\n",
    "\\mu = 4 m \\: Pas \\; or 0 \\\\\n",
    "\\zeta = 9 \\\\\n",
    "E = 400 \\; kPa \\\\\n",
    "P_d = P_{ext} = P_{out} = 0\n",
    "$"
   ]
  },
  {
   "cell_type": "markdown",
   "metadata": {},
   "source": [
    "## 1) Inviscid\n",
    "( $ \\mu = 0 \\Rightarrow f = 0 $ )"
   ]
  },
  {
   "cell_type": "markdown",
   "metadata": {},
   "source": [
    "$$\n",
    "\\begin{cases}\\begin{matrix}\n",
    "\\frac{\\partial A} {\\partial t} + \\frac{\\partial (AU)} {\\partial x} = 0 \\cr\n",
    "\\frac{\\partial U} {\\partial t} + U\\frac{\\partial U} {\\partial x} + \\frac {1} {\\rho} \\frac {\\partial P} {\\partial x}= 0\n",
    "\\end{matrix}\\;(1) \\end{cases}\n",
    "$$"
   ]
  },
  {
   "cell_type": "markdown",
   "metadata": {},
   "source": [
    "\\begin{align}\n",
    "\\Rightarrow\n",
    "\\begin{cases}\\begin{matrix}\n",
    "\\frac{A^{n+1}_i - A^n_i} {\\Delta t} + \\frac{(AU)^{n}_i - (AU)^n_{i-1}} {\\Delta x} = 0 \\\\\n",
    "\\frac{U^{n+1}_i - U^n_i} {\\Delta t} + U^{n}_i\\frac{U^{n}_i - U^n_{i-1}} {\\Delta x} + \\frac {1} {\\rho} \\frac {P^n_{i} - P^n_{i-1}} {\\Delta x}= 0\n",
    "\\end{matrix} \\end{cases}\n",
    "\\end{align}"
   ]
  },
  {
   "cell_type": "markdown",
   "metadata": {},
   "source": [
    "\\begin{align}\n",
    "\\Rightarrow\n",
    "\\begin{cases}\\begin{matrix}\n",
    "A^{n+1}_i = A^n_i + \\frac{\\Delta t} {\\Delta x}  ((AU)^{n}_i - (AU)^n_{i-1})= 0 \\\\\n",
    "U^{n+1}_i = U^n_i +   U^{n}_i \\frac {\\Delta t} {\\Delta x} (U^{n}_i - U^n_{i-1})+ \\frac {\\Delta t} {\\rho \\Delta x} (P^n_{i} - P^n_{i-1})\n",
    "\\end{matrix} \\end{cases}\n",
    "\\end{align}"
   ]
  },
  {
   "cell_type": "markdown",
   "metadata": {},
   "source": [
    "## 2) viscous\n",
    "( $ \\mu = 4 \\Rightarrow f = -2  \\cdot(9 + 2) \\cdot 4 \\; \\pi\\; U = -88 \\pi U$ )"
   ]
  },
  {
   "cell_type": "markdown",
   "metadata": {},
   "source": [
    "$$\n",
    "\\begin{cases}\\begin{matrix}\n",
    "\\frac{\\partial A} {\\partial t} + \\frac{\\partial (AU)} {\\partial x} = 0 \\cr\n",
    "\\frac{\\partial U} {\\partial t} + U\\frac{\\partial U} {\\partial x} + \\frac {1} {\\rho} \\frac {\\partial P} {\\partial x}=  \\frac {-88 \\pi U} {\\rho A}\n",
    "\\end{matrix}\\;(1) \\end{cases}\n",
    "$$"
   ]
  },
  {
   "cell_type": "markdown",
   "metadata": {},
   "source": [
    "\\begin{align}\n",
    "\\Rightarrow\n",
    "\\begin{cases}\\begin{matrix}\n",
    "\\frac{A^{n+1}_i - A^n_i} {\\Delta t} + \\frac{(AU)^{n}_i - (AU)^n_{i-1}} {\\Delta x} = 0 \\\\\n",
    "\\frac{U^{n+1}_i - U^n_i} {\\Delta t} + U^{n}_i\\frac{U^{n}_i - U^n_{i-1}} {\\Delta x} + \\frac {1} {\\rho} \\frac {P^n_{i} - P^n_{i-1}} {\\Delta x}= \\frac {-88 \\pi U^n_i} {\\rho A^n_i}\n",
    "\\end{matrix} \\end{cases}\n",
    "\\end{align}"
   ]
  },
  {
   "cell_type": "markdown",
   "metadata": {},
   "source": [
    "\\begin{align}\n",
    "\\Rightarrow\n",
    "\\begin{cases}\\begin{matrix}\n",
    "A^{n+1}_i = A^n_i + \\frac{\\Delta t} {\\Delta x}  ((AU)^{n}_i - (AU)^n_{i-1})= 0 \\\\\n",
    "U^{n+1}_i = U^n_i +   U^{n}_i \\frac {\\Delta t} {\\Delta x} (U^{n}_i - U^n_{i-1})+ \\frac {\\Delta t} {\\rho \\Delta x} (P^n_{i} - P^n_{i-1}) + \\Delta t \\frac {-88 \\pi } {\\rho} \\frac{U^n_i} { A^n_i}\n",
    "\\end{matrix} \\end{cases}\n",
    "\\end{align}"
   ]
  }
 ],
 "metadata": {
  "kernelspec": {
   "display_name": "Python 3",
   "language": "python",
   "name": "python3"
  },
  "language_info": {
   "codemirror_mode": {
    "name": "ipython",
    "version": 3
   },
   "file_extension": ".py",
   "mimetype": "text/x-python",
   "name": "python",
   "nbconvert_exporter": "python",
   "pygments_lexer": "ipython3",
   "version": "3.6.4"
  }
 },
 "nbformat": 4,
 "nbformat_minor": 2
}
