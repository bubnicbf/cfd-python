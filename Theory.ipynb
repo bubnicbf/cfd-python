{
 "cells": [
  {
   "cell_type": "markdown",
   "metadata": {},
   "source": [
    "# Little path to understand Navier-Stokes Eqaution"
   ]
  },
  {
   "cell_type": "code",
   "execution_count": 23,
   "metadata": {},
   "outputs": [
    {
     "data": {
      "text/latex": [
       "$\\frac{\\partial \\vec V} {\\partial t} + (\\vec V \\cdot \\nabla)\\vec V = - \\nabla p + \\nu\\nabla^{2}\\vec V$"
      ],
      "text/plain": [
       "<IPython.core.display.Latex object>"
      ]
     },
     "metadata": {},
     "output_type": "display_data"
    }
   ],
   "source": [
    "%%latex\n",
    "$\\frac{\\partial \\vec V} {\\partial t} + (\\vec V \\cdot \\nabla)\\vec V = - \\nabla p + \\nu\\nabla^{2}\\vec V$"
   ]
  },
  {
   "cell_type": "markdown",
   "metadata": {},
   "source": [
    "Navier-Stokes Equation is about the movement of fluid.\n",
    "To understand the movement of fluid, we need to identify the velocity of the fluid.\n",
    "We can get velocity from Newton's law : F=ma\n",
    "Since it is about accerlation, we need additional steps"
   ]
  },
  {
   "cell_type": "markdown",
   "metadata": {},
   "source": [
    "accleration is a derivative of velocity.\n",
    "thus,"
   ]
  },
  {
   "cell_type": "code",
   "execution_count": 24,
   "metadata": {},
   "outputs": [
    {
     "data": {
      "text/latex": [
       "$\\vec a = \\frac{\\partial \\vec V} {\\partial t} + \\vec V \\cdot \\nabla \\vec V$"
      ],
      "text/plain": [
       "<IPython.core.display.Latex object>"
      ]
     },
     "metadata": {},
     "output_type": "display_data"
    }
   ],
   "source": [
    "%%latex\n",
    "$\\vec a = \\frac{\\partial \\vec V} {\\partial t} + \\vec V \\cdot \\nabla \\vec V$"
   ]
  },
  {
   "cell_type": "markdown",
   "metadata": {},
   "source": [
    "It is derived from "
   ]
  },
  {
   "cell_type": "code",
   "execution_count": 34,
   "metadata": {},
   "outputs": [
    {
     "data": {
      "text/latex": [
       "\\begin{align}\n",
       "\\frac{D} {D t}() &= \\frac{\\partial} {\\partial t} ()+ \\frac{\\partial} {\\partial x} ()+\\frac{\\partial} {\\partial y} ()+ \\frac{\\partial} {\\partial z} () \\\\\n",
       "&= \\frac{\\partial} {\\partial t} ()+  \\vec v \\cdot \\nabla()\n",
       "\\end{align}"
      ],
      "text/plain": [
       "<IPython.core.display.Latex object>"
      ]
     },
     "metadata": {},
     "output_type": "display_data"
    }
   ],
   "source": [
    "%%latex\n",
    "\\begin{align}\n",
    "\\frac{D} {D t}() &= \\frac{\\partial} {\\partial t} ()+ \\frac{\\partial} {\\partial x} ()+\\frac{\\partial} {\\partial y} ()+ \\frac{\\partial} {\\partial z} () \\\\\n",
    "&= \\frac{\\partial} {\\partial t} ()+  \\vec v \\cdot \\nabla()\n",
    "\\end{align}\n"
   ]
  },
  {
   "cell_type": "markdown",
   "metadata": {},
   "source": [
    "This is same as total derivative. Also called as material derivative."
   ]
  },
  {
   "cell_type": "markdown",
   "metadata": {},
   "source": [
    "There are two approaches in fluid dynamics.\n",
    "1) Lagrangian : consider the change of all variables -> totla differentiation\n",
    "2) Enulerian: only consider the change of time -> partial differentiation"
   ]
  },
  {
   "cell_type": "markdown",
   "metadata": {},
   "source": [
    "## Continuity equation"
   ]
  },
  {
   "cell_type": "code",
   "execution_count": null,
   "metadata": {},
   "outputs": [],
   "source": []
  },
  {
   "cell_type": "code",
   "execution_count": null,
   "metadata": {},
   "outputs": [],
   "source": []
  }
 ],
 "metadata": {
  "kernelspec": {
   "display_name": "Python 3",
   "language": "python",
   "name": "python3"
  },
  "language_info": {
   "codemirror_mode": {
    "name": "ipython",
    "version": 3
   },
   "file_extension": ".py",
   "mimetype": "text/x-python",
   "name": "python",
   "nbconvert_exporter": "python",
   "pygments_lexer": "ipython3",
   "version": "3.6.4"
  }
 },
 "nbformat": 4,
 "nbformat_minor": 2
}