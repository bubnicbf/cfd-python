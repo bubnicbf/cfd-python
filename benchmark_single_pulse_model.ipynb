{
 "cells": [
  {
   "cell_type": "markdown",
   "metadata": {},
   "source": [
    "# Single Pulse Model"
   ]
  },
  {
   "cell_type": "markdown",
   "metadata": {},
   "source": [
    "## Mathematical Model\n",
    "\n",
    "$$\n",
    "\\begin{cases}\\begin{matrix}\n",
    "\\frac{\\partial A} {\\partial t} + \\frac{\\partial (AU)} {\\partial x} = 0 \\cr\n",
    "\\frac{\\partial U} {\\partial t} + U\\frac{\\partial U} {\\partial x} + \\frac {1} {\\rho} \\frac {\\partial P} {\\partial x}= \\frac {f} {\\rho A}\n",
    "\\end{matrix}\\;(1) \\end{cases}\n",
    "$$"
   ]
  },
  {
   "cell_type": "markdown",
   "metadata": {},
   "source": [
    "\\begin{align}\n",
    "f = -2(\\zeta + 2) \\mu \\pi U\n",
    "\\end{align}"
   ]
  },
  {
   "cell_type": "markdown",
   "metadata": {},
   "source": [
    "\\begin{align}\n",
    "\\begin{matrix}\n",
    "P - P_{ext} = P_d + \\frac {\\beta} {A_d}(\\sqrt{A} - \\sqrt{A_d}) \\\\\n",
    "\\beta(x) = \\frac {4} {3} \\sqrt{\\pi} E h \n",
    "\\end{matrix} \\;(3)\n",
    "\\end{align}"
   ]
  },
  {
   "cell_type": "markdown",
   "metadata": {},
   "source": [
    "#### For continuous solution,\n",
    "\\begin{align}\n",
    "Q_{in}(t) = 10^{-6} \\: exp(-10000(t-0.05)^2) \\: m^3s^{-1} \\; (14)\n",
    "\\end{align}"
   ]
  },
  {
   "cell_type": "markdown",
   "metadata": {},
   "source": [
    "#### Given assumption\n",
    "$$ A_{d} = A_{0}, \\; P_d = P_{ext} = 0$$ "
   ]
  },
  {
   "cell_type": "markdown",
   "metadata": {},
   "source": [
    "## Parameters\n",
    "### Table2\n",
    "$\n",
    "L = 10 \\; m\\\\\n",
    "A_{0} = \\pi \\; cm^2 \\\\\n",
    "A(x,0) = A_{0} \\\\\n",
    "U(x,0) = 0 \\\\\n",
    "P(x,0) = 0 \\\\\n",
    "h = 1.5 mm \\\\\n",
    "\\rho = 1050 \\; kg\\:m^{-3} \\\\\n",
    "\\mu = 4 m \\: Pas \\; or 0 \\\\\n",
    "\\zeta = 9 \\\\\n",
    "E = 400 \\; kPa \\\\\n",
    "P_d = P_{ext} = P_{out} = 0\n",
    "$"
   ]
  },
  {
   "cell_type": "markdown",
   "metadata": {},
   "source": [
    "### Unit change\n",
    "$ 1\\; Pa = 1\\; N / m^2 = 1 \\frac {kg \\cdot m / s^2} {m^2} = 1 \\frac {kg} {m \\cdot s^2} \\\\\n",
    "kg, m, s$"
   ]
  },
  {
   "cell_type": "markdown",
   "metadata": {},
   "source": [
    "## 1) Inviscid\n",
    "( $ \\mu = 0 \\Rightarrow f = 0 $ )"
   ]
  },
  {
   "cell_type": "markdown",
   "metadata": {},
   "source": [
    "$$\n",
    "\\begin{cases}\\begin{matrix}\n",
    "\\frac{\\partial A} {\\partial t} + \\frac{\\partial (AU)} {\\partial x} = 0 \\cr\n",
    "\\frac{\\partial U} {\\partial t} + U\\frac{\\partial U} {\\partial x} + \\frac {1} {\\rho} \\frac {\\partial P} {\\partial x}= 0\n",
    "\\end{matrix}\\;(1) \\end{cases}\n",
    "$$"
   ]
  },
  {
   "cell_type": "markdown",
   "metadata": {},
   "source": [
    "\\begin{align}\n",
    "\\Rightarrow\n",
    "\\begin{cases}\\begin{matrix}\n",
    "\\frac{A^{n+1}_i - A^n_i} {\\Delta t} + \\frac{(AU)^{n}_i - (AU)^n_{i-1}} {\\Delta x} = 0 \\\\\n",
    "\\frac{U^{n+1}_i - U^n_i} {\\Delta t} + U^{n}_i\\frac{U^{n}_i - U^n_{i-1}} {\\Delta x} + \\frac {1} {\\rho} \\frac {P^n_{i} - P^n_{i-1}} {\\Delta x}= 0\n",
    "\\end{matrix} \\end{cases}\n",
    "\\end{align}"
   ]
  },
  {
   "cell_type": "markdown",
   "metadata": {},
   "source": [
    "\\begin{align}\n",
    "\\Rightarrow\n",
    "\\begin{cases}\\begin{matrix}\n",
    "A^{n+1}_i = A^n_i + \\frac{\\Delta t} {\\Delta x}  ((AU)^{n}_i - (AU)^n_{i-1})\\\\\n",
    "U^{n+1}_i = U^n_i +   U^{n}_i \\frac {\\Delta t} {\\Delta x} (U^{n}_i - U^n_{i-1})+ \\frac {\\Delta t} {\\rho \\Delta x} (P^n_{i} - P^n_{i-1})\n",
    "\\end{matrix} \\end{cases}\n",
    "\\end{align}"
   ]
  },
  {
   "cell_type": "markdown",
   "metadata": {},
   "source": [
    "\\begin{align}\n",
    "P = \\frac {\\beta } {A_0}(\\sqrt{A} - \\sqrt{A_0})\\\\\n",
    "\\beta = \\frac {4} {3} \\sqrt{\\pi}Eh\n",
    "\\end{align}"
   ]
  },
  {
   "cell_type": "markdown",
   "metadata": {},
   "source": [
    "## 2) viscous\n",
    "( $ \\mu = 4 \\Rightarrow f = -2  \\cdot(9 + 2) \\cdot 4 \\; \\pi\\; U = -88 \\pi U$ )"
   ]
  },
  {
   "cell_type": "markdown",
   "metadata": {},
   "source": [
    "$$\n",
    "\\begin{cases}\\begin{matrix}\n",
    "\\frac{\\partial A} {\\partial t} + \\frac{\\partial (AU)} {\\partial x} = 0 \\cr\n",
    "\\frac{\\partial U} {\\partial t} + U\\frac{\\partial U} {\\partial x} + \\frac {1} {\\rho} \\frac {\\partial P} {\\partial x}=  \\frac {-88 \\pi U} {\\rho A}\n",
    "\\end{matrix}\\;(1) \\end{cases}\n",
    "$$"
   ]
  },
  {
   "cell_type": "markdown",
   "metadata": {},
   "source": [
    "\\begin{align}\n",
    "\\Rightarrow\n",
    "\\begin{cases}\\begin{matrix}\n",
    "\\frac{A^{n+1}_i - A^n_i} {\\Delta t} + \\frac{(AU)^{n}_i - (AU)^n_{i-1}} {\\Delta x} = 0 \\\\\n",
    "\\frac{U^{n+1}_i - U^n_i} {\\Delta t} + U^{n}_i\\frac{U^{n}_i - U^n_{i-1}} {\\Delta x} + \\frac {1} {\\rho} \\frac {P^n_{i} - P^n_{i-1}} {\\Delta x}= \\frac {-88 \\pi U^n_i} {\\rho A^n_i}\n",
    "\\end{matrix} \\end{cases}\n",
    "\\end{align}"
   ]
  },
  {
   "cell_type": "markdown",
   "metadata": {},
   "source": [
    "\\begin{align}\n",
    "\\Rightarrow\n",
    "\\begin{cases}\\begin{matrix}\n",
    "A^{n+1}_i = A^n_i + \\frac{\\Delta t} {\\Delta x}  ((AU)^{n}_i - (AU)^n_{i-1})\\\\\n",
    "U^{n+1}_i = U^n_i +   U^{n}_i \\frac {\\Delta t} {\\Delta x} (U^{n}_i - U^n_{i-1})+ \\frac {\\Delta t} {\\rho \\Delta x} (P^n_{i} - P^n_{i-1}) + \\Delta t \\frac {-88 \\pi } {\\rho} \\frac{U^n_i} { A^n_i}\n",
    "\\end{matrix} \\end{cases}\n",
    "\\end{align}"
   ]
  },
  {
   "cell_type": "markdown",
   "metadata": {},
   "source": [
    "\\begin{align}\n",
    "P = \\frac {\\beta } {A_0}(\\sqrt{A} - \\sqrt{A_0})\\\\\n",
    "\\beta = \\frac {4} {3} \\sqrt{\\pi}Eh\n",
    "\\end{align}"
   ]
  },
  {
   "cell_type": "code",
   "execution_count": 2,
   "metadata": {},
   "outputs": [],
   "source": [
    "import numpy as np\n",
    "import matplotlib.pyplot as plt\n",
    "from math import pi, sqrt, exp\n",
    "%matplotlib inline"
   ]
  },
  {
   "cell_type": "markdown",
   "metadata": {},
   "source": [
    "Unit check"
   ]
  },
  {
   "cell_type": "code",
   "execution_count": 3,
   "metadata": {},
   "outputs": [],
   "source": [
    "L = 10 * (10**2)\n",
    "omega = 2\n",
    "A0 = pi * 0.01**2\n",
    "rho = 1050\n",
    "E = 400 * 1000\n",
    "h = 1.5 * 0.001\n",
    "beta = 4/3 * sqrt(pi) * E * h"
   ]
  },
  {
   "cell_type": "code",
   "execution_count": 14,
   "metadata": {},
   "outputs": [],
   "source": [
    "def pulse_velocity(A):\n",
    "    return sqrt(beta/2/rho/A0) * np.power(A, 1/4) * 100"
   ]
  },
  {
   "cell_type": "code",
   "execution_count": 15,
   "metadata": {
    "scrolled": true
   },
   "outputs": [
    {
     "data": {
      "text/plain": [
       "617.2133998483675"
      ]
     },
     "execution_count": 15,
     "metadata": {},
     "output_type": "execute_result"
    }
   ],
   "source": [
    "pulse_velocity(A0)"
   ]
  },
  {
   "cell_type": "code",
   "execution_count": 25,
   "metadata": {},
   "outputs": [],
   "source": [
    "dx = 0.1\n",
    "dt = 0.005\n",
    "nx = int(omega / dx + 1)\n",
    "nt = int(0.2/ dt) + 1\n",
    "\n",
    "A = A0 * np.ones(nx)\n",
    "U = np.zeros(nx)\n",
    "AU = np.multiply(A, U) \n",
    "P = np.zeros(nx)"
   ]
  },
  {
   "cell_type": "code",
   "execution_count": 7,
   "metadata": {},
   "outputs": [
    {
     "data": {
      "text/plain": [
       "1.3887943864963971e-11"
      ]
     },
     "execution_count": 7,
     "metadata": {},
     "output_type": "execute_result"
    }
   ],
   "source": [
    "n = 0\n",
    "exp(-10000 * ((n * dt - 0.05) ** 2))"
   ]
  },
  {
   "cell_type": "code",
   "execution_count": 26,
   "metadata": {},
   "outputs": [
    {
     "name": "stdout",
     "output_type": "stream",
     "text": [
      "0 1.3887943864963971e-11 4.4206698309835556e-08\n",
      "1 1.6052280551856059e-09 5.109599595451578e-06\n",
      "2 1.1253517471925912e-07 0.0003582105865656037\n",
      "3 4.785117392129e-06 0.015231501724646594\n",
      "4 0.00012340980408667932 0.392825606927948\n",
      "5 0.0019304541362277076 6.144826363856696\n",
      "6 0.018315638888734147 58.30048930056377\n",
      "7 0.10539922456186433 335.49615174146834\n",
      "8 0.36787944117144217 1170.9966304863829\n",
      "9 0.7788007830714045 2478.9998861930585\n",
      "10 1.0 3183.098861837907\n",
      "11 0.7788007830714051 2478.9998861930603\n",
      "12 0.36787944117144267 1170.9966304863844\n",
      "13 0.10539922456186433 335.49615174146834\n",
      "14 0.018315638888734147 58.30048930056377\n",
      "15 0.001930454136227716 6.144826363856723\n",
      "16 0.00012340980408667956 0.39282560692794877\n",
      "17 4.785117392129e-06 0.015231501724646594\n",
      "18 1.1253517471925971e-07 0.0003582105865656056\n",
      "19 1.6052280551856116e-09 5.109599595451597e-06\n",
      "20 1.3887943864963971e-11 4.4206698309835556e-08\n",
      "21 7.287724095819719e-14 2.3197546274792437e-10\n",
      "22 2.3195228302435696e-16 7.383270480955347e-13\n",
      "23 4.47773244171827e-19 1.4253065038848095e-15\n",
      "24 5.2428856633635015e-22 1.6688623387798642e-18\n",
      "25 3.7233631217505106e-25 1.1851832915053287e-21\n",
      "26 1.603810890548638e-28 5.105088620308609e-25\n",
      "27 4.1900931944943377e-32 1.3337480878389687e-28\n",
      "28 6.63967719958064e-36 2.1134748936956237e-32\n",
      "29 6.381503448060881e-40 2.031295636233727e-36\n",
      "30 3.720075976020889e-44 1.1841369605222631e-40\n",
      "31 1.3153258948574833e-48 4.186812358866781e-45\n",
      "32 2.820770088460135e-53 8.978790058083868e-50\n",
      "33 3.6690596154291634e-58 1.1678979485887998e-54\n",
      "34 2.894640311648218e-63 9.213926281437567e-60\n",
      "35 1.3851193699226017e-68 4.408971889910272e-65\n",
      "36 4.020060215743241e-74 1.2796249097252162e-70\n",
      "37 7.076698175429348e-80 2.252582990777955e-76\n",
      "38 7.555819019711745e-86 2.4050918921897666e-82\n",
      "39 4.8931122620970836e-92 1.5575260072326331e-88\n",
      "40 1.92194772782374e-98 6.117749624947698e-95\n"
     ]
    }
   ],
   "source": [
    "for n in range(nt):\n",
    "    Un = U.copy()\n",
    "    An = A.copy()\n",
    "    Pn = beta / A0 * (np.sqrt(A) - sqrt(A0))\n",
    "    AUn = np.multiply(An, Un)\n",
    "    AUn[0] = exp(-10000 * ((n * dt - 0.05) ** 2)) ## Qin(t)\n",
    "    Un[0] = AUn[0] / An[0]\n",
    "    print(n, AUn[0], Un[0])\n",
    "    #for i in range(1, nx):\n",
    "    #    A[i] = An[i] + dt/dx *(AUn[i] - AUn[i-1])\n",
    "    #    U[i] = Un[i] + Un[i]*dt/dx*(Un[i] - Un[i-1]) + dt / rho / dx * (Pn[i] - Pn[i-1])\n",
    "    #print(Pn)"
   ]
  },
  {
   "cell_type": "code",
   "execution_count": 22,
   "metadata": {},
   "outputs": [
    {
     "name": "stdout",
     "output_type": "stream",
     "text": [
      "0 1.3887943864963971e-11 4.4206698309835556e-08\n",
      "1 1.6052280551856059e-09 5.109599595451578e-06\n",
      "2 1.1253517471925912e-07 0.0003582105865656037\n",
      "3 4.785117392129e-06 0.015231501724646594\n",
      "4 0.00012340980408667932 0.392825606927948\n",
      "5 0.0019304541362277076 6.144826363856696\n",
      "6 0.018315638888734147 58.30048930056377\n",
      "7 0.10539922456186433 335.49615174146834\n",
      "8 0.36787944117144217 1170.9966304863829\n",
      "9 0.7788007830714045 2478.9998861930585\n",
      "10 1.0 3183.098861837907\n",
      "11 0.7788007830714051 2478.9998861930603\n",
      "12 0.36787944117144267 1170.9966304863844\n",
      "13 0.10539922456186433 335.49615174146834\n",
      "14 0.018315638888734147 58.30048930056377\n",
      "15 0.001930454136227716 6.144826363856723\n",
      "16 0.00012340980408667956 0.39282560692794877\n",
      "17 4.785117392129e-06 0.015231501724646594\n",
      "18 1.1253517471925971e-07 0.0003582105865656056\n",
      "19 1.6052280551856116e-09 5.109599595451597e-06\n",
      "20 1.3887943864963971e-11 4.4206698309835556e-08\n",
      "21 7.287724095819719e-14 2.3197546274792437e-10\n",
      "22 2.3195228302435696e-16 7.383270480955347e-13\n",
      "23 4.47773244171827e-19 1.4253065038848095e-15\n",
      "24 5.2428856633635015e-22 1.6688623387798642e-18\n",
      "25 3.7233631217505106e-25 1.1851832915053287e-21\n",
      "26 1.603810890548638e-28 5.105088620308609e-25\n",
      "27 4.1900931944943377e-32 1.3337480878389687e-28\n",
      "28 6.63967719958064e-36 2.1134748936956237e-32\n",
      "29 6.381503448060881e-40 2.031295636233727e-36\n",
      "30 3.720075976020889e-44 1.1841369605222631e-40\n",
      "31 1.3153258948574833e-48 4.186812358866781e-45\n",
      "32 2.820770088460135e-53 8.978790058083868e-50\n",
      "33 3.6690596154291634e-58 1.1678979485887998e-54\n",
      "34 2.894640311648218e-63 9.213926281437567e-60\n",
      "35 1.3851193699226017e-68 4.408971889910272e-65\n",
      "36 4.020060215743241e-74 1.2796249097252162e-70\n",
      "37 7.076698175429348e-80 2.252582990777955e-76\n",
      "38 7.555819019711745e-86 2.4050918921897666e-82\n",
      "39 4.8931122620970836e-92 1.5575260072326331e-88\n",
      "40 1.92194772782374e-98 6.117749624947698e-95\n"
     ]
    }
   ],
   "source": [
    "for n in range(nt):\n",
    "    Un = U.copy()\n",
    "    An = A.copy()\n",
    "    Pn = beta / A0 * (np.sqrt(A) - sqrt(A0))\n",
    "    AUn = np.multiply(An, Un)\n",
    "    AUn[0] = exp(-10000 * ((n * dt - 0.05) ** 2)) ## Qin(t)\n",
    "    Un[0] = AUn[0] / An[0]\n",
    "    print(n, AUn[0], Un[0])\n",
    "    for i in range(1, nx):\n",
    "        A[i] = An[i] + dt/dx *(AUn[i] - AUn[i-1])\n",
    "        U[i] = Un[i] + Un[i]*dt/dx*(Un[i] - Un[i-1]) + dt / rho / dx * (Pn[i] - Pn[i-1])\n",
    "    #print(Pn)"
   ]
  },
  {
   "cell_type": "code",
   "execution_count": null,
   "metadata": {},
   "outputs": [],
   "source": []
  }
 ],
 "metadata": {
  "kernelspec": {
   "display_name": "Python 3",
   "language": "python",
   "name": "python3"
  },
  "language_info": {
   "codemirror_mode": {
    "name": "ipython",
    "version": 3
   },
   "file_extension": ".py",
   "mimetype": "text/x-python",
   "name": "python",
   "nbconvert_exporter": "python",
   "pygments_lexer": "ipython3",
   "version": "3.6.4"
  }
 },
 "nbformat": 4,
 "nbformat_minor": 2
}