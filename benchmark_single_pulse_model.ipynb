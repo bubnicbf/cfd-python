{
 "cells": [
  {
   "cell_type": "markdown",
   "metadata": {},
   "source": [
    "# Single Pulse Model"
   ]
  },
  {
   "cell_type": "markdown",
   "metadata": {},
   "source": [
    "## Mathematical Model\n",
    "\n",
    "$$\n",
    "\\begin{cases}\\begin{matrix}\n",
    "\\frac{\\partial A} {\\partial t} + \\frac{\\partial (AU)} {\\partial x} = 0 \\cr\n",
    "\\frac{\\partial U} {\\partial t} + U\\frac{\\partial U} {\\partial x} + \\frac {1} {\\rho} \\frac {\\partial P} {\\partial x}= \\frac {f} {\\rho A}\n",
    "\\end{matrix}\\;(1) \\end{cases}\n",
    "$$"
   ]
  },
  {
   "cell_type": "markdown",
   "metadata": {},
   "source": [
    "\\begin{align}\n",
    "f = -2(\\zeta + 2) \\mu \\pi U\n",
    "\\end{align}"
   ]
  },
  {
   "cell_type": "markdown",
   "metadata": {},
   "source": [
    "\\begin{align}\n",
    "\\begin{matrix}\n",
    "P - P_{ext} = P_d + \\frac {\\beta} {A_d}(\\sqrt{A} - \\sqrt{A_d}) \\\\\n",
    "\\beta(x) = \\frac {4} {3} \\sqrt{\\pi} E h \n",
    "\\end{matrix} \\;(3)\n",
    "\\end{align}"
   ]
  },
  {
   "cell_type": "markdown",
   "metadata": {},
   "source": [
    "#### For continuous solution,\n",
    "\\begin{align}\n",
    "Q_{in}(t) = 10^{-6} \\: exp(-10000(t-0.05)^2) \\: m^3s^{-1} \\; (14)\n",
    "\\end{align}"
   ]
  },
  {
   "cell_type": "markdown",
   "metadata": {},
   "source": [
    "#### Given assumption\n",
    "$$ A_{d} = A_{0}, \\; P_d = P_{ext} = 0$$ "
   ]
  },
  {
   "cell_type": "markdown",
   "metadata": {},
   "source": [
    "## Parameters\n",
    "### Table2\n",
    "$\n",
    "L = 10 \\; m\\\\\n",
    "A_{0} = \\pi \\; cm^2 \\\\\n",
    "A(x,0) = A_{0} \\\\\n",
    "U(x,0) = 0 \\\\\n",
    "P(x,0) = 0 \\\\\n",
    "h = 1.5 mm \\\\\n",
    "\\rho = 1050 \\; kg\\:m^{-3} \\\\\n",
    "\\mu = 4 m \\: Pas \\; or \\;0 \\\\\n",
    "\\zeta = 9 \\\\\n",
    "E = 400 \\; kPa \\\\\n",
    "P_d = P_{ext} = P_{out} = 0\n",
    "$"
   ]
  },
  {
   "cell_type": "markdown",
   "metadata": {},
   "source": [
    "### Unit change\n",
    "$ 1\\; Pa = 1\\; N / m^2 = 1 \\frac {kg \\cdot m / s^2} {m^2} = 1 \\frac {kg} {m \\cdot s^2} \\\\\n",
    "kg, m, s$"
   ]
  },
  {
   "cell_type": "markdown",
   "metadata": {},
   "source": [
    "## 1) Inviscid\n",
    "( $ \\mu = 0 \\Rightarrow f = 0 $ )"
   ]
  },
  {
   "cell_type": "markdown",
   "metadata": {},
   "source": [
    "$$\n",
    "\\begin{cases}\\begin{matrix}\n",
    "\\frac{\\partial A} {\\partial t} + \\frac{\\partial (AU)} {\\partial x} = 0 \\cr\n",
    "\\frac{\\partial U} {\\partial t} + U\\frac{\\partial U} {\\partial x} + \\frac {1} {\\rho} \\frac {\\partial P} {\\partial x}= 0\n",
    "\\end{matrix}\\;(1) \\end{cases}\n",
    "$$"
   ]
  },
  {
   "cell_type": "markdown",
   "metadata": {},
   "source": [
    "\\begin{align}\n",
    "\\Rightarrow\n",
    "\\begin{cases}\\begin{matrix}\n",
    "\\frac{A^{n+1}_i - A^n_i} {\\Delta t} + \\frac{(AU)^{n}_i - (AU)^n_{i-1}} {\\Delta x} = 0 \\\\\n",
    "\\frac{U^{n+1}_i - U^n_i} {\\Delta t} + U^{n}_i\\frac{U^{n}_i - U^n_{i-1}} {\\Delta x} + \\frac {1} {\\rho} \\frac {P^n_{i} - P^n_{i-1}} {\\Delta x}= 0\n",
    "\\end{matrix} \\end{cases}\n",
    "\\end{align}"
   ]
  },
  {
   "cell_type": "markdown",
   "metadata": {},
   "source": [
    "\\begin{align}\n",
    "\\Rightarrow\n",
    "\\begin{cases}\\begin{matrix}\n",
    "A^{n+1}_i = A^n_i + \\frac{\\Delta t} {\\Delta x}  ((AU)^{n}_i - (AU)^n_{i-1})\\\\\n",
    "U^{n+1}_i = U^n_i +   U^{n}_i \\frac {\\Delta t} {\\Delta x} (U^{n}_i - U^n_{i-1})+ \\frac {\\Delta t} {\\rho \\Delta x} (P^n_{i} - P^n_{i-1})\n",
    "\\end{matrix} \\end{cases}\n",
    "\\end{align}"
   ]
  },
  {
   "cell_type": "markdown",
   "metadata": {},
   "source": [
    "\\begin{align}\n",
    "P = \\frac {\\beta } {A_0}(\\sqrt{A} - \\sqrt{A_0})\\\\\n",
    "\\beta = \\frac {4} {3} \\sqrt{\\pi}Eh\n",
    "\\end{align}"
   ]
  },
  {
   "cell_type": "markdown",
   "metadata": {},
   "source": [
    "## 2) viscous\n",
    "( $ \\mu = 4 \\Rightarrow f = -2  \\cdot(9 + 2) \\cdot 4 \\; \\pi\\; U = -88 \\pi U$ )"
   ]
  },
  {
   "cell_type": "markdown",
   "metadata": {},
   "source": [
    "$$\n",
    "\\begin{cases}\\begin{matrix}\n",
    "\\frac{\\partial A} {\\partial t} + \\frac{\\partial (AU)} {\\partial x} = 0 \\cr\n",
    "\\frac{\\partial U} {\\partial t} + U\\frac{\\partial U} {\\partial x} + \\frac {1} {\\rho} \\frac {\\partial P} {\\partial x}=  \\frac {-88 \\pi U} {\\rho A}\n",
    "\\end{matrix}\\;(1) \\end{cases}\n",
    "$$"
   ]
  },
  {
   "cell_type": "markdown",
   "metadata": {},
   "source": [
    "\\begin{align}\n",
    "\\Rightarrow\n",
    "\\begin{cases}\\begin{matrix}\n",
    "\\frac{A^{n+1}_i - A^n_i} {\\Delta t} + \\frac{(AU)^{n}_i - (AU)^n_{i-1}} {\\Delta x} = 0 \\\\\n",
    "\\frac{U^{n+1}_i - U^n_i} {\\Delta t} + U^{n}_i\\frac{U^{n}_i - U^n_{i-1}} {\\Delta x} + \\frac {1} {\\rho} \\frac {P^n_{i} - P^n_{i-1}} {\\Delta x}= \\frac {-88 \\pi U^n_i} {\\rho A^n_i}\n",
    "\\end{matrix} \\end{cases}\n",
    "\\end{align}"
   ]
  },
  {
   "cell_type": "markdown",
   "metadata": {},
   "source": [
    "\\begin{align}\n",
    "\\Rightarrow\n",
    "\\begin{cases}\\begin{matrix}\n",
    "A^{n+1}_i = A^n_i + \\frac{\\Delta t} {\\Delta x}  ((AU)^{n}_i - (AU)^n_{i-1})\\\\\n",
    "U^{n+1}_i = U^n_i +   U^{n}_i \\frac {\\Delta t} {\\Delta x} (U^{n}_i - U^n_{i-1})+ \\frac {\\Delta t} {\\rho \\Delta x} (P^n_{i} - P^n_{i-1}) + \\Delta t \\frac {-88 \\pi } {\\rho} \\frac{U^n_i} { A^n_i}\n",
    "\\end{matrix} \\end{cases}\n",
    "\\end{align}"
   ]
  },
  {
   "cell_type": "markdown",
   "metadata": {},
   "source": [
    "\\begin{align}\n",
    "P = \\frac {\\beta } {A_0}(\\sqrt{A} - \\sqrt{A_0})\\\\\n",
    "\\beta = \\frac {4} {3} \\sqrt{\\pi}Eh\n",
    "\\end{align}"
   ]
  },
  {
   "cell_type": "code",
   "execution_count": 1,
   "metadata": {},
   "outputs": [],
   "source": [
    "import numpy as np\n",
    "import matplotlib.pyplot as plt\n",
    "from math import pi, sqrt, exp\n",
    "%matplotlib inline"
   ]
  },
  {
   "cell_type": "markdown",
   "metadata": {},
   "source": [
    "Unit check"
   ]
  },
  {
   "cell_type": "code",
   "execution_count": 213,
   "metadata": {},
   "outputs": [],
   "source": [
    "L = 10\n",
    "omega = 10 * 0.001\n",
    "A0 = pi * 0.01**2\n",
    "rho = 1050\n",
    "E = 400 * 1000\n",
    "h = 1.5 * 0.001\n",
    "beta = 4/3 * sqrt(pi) * E * h"
   ]
  },
  {
   "cell_type": "code",
   "execution_count": 114,
   "metadata": {},
   "outputs": [
    {
     "data": {
      "text/plain": [
       "0.0031830988618379067"
      ]
     },
     "execution_count": 114,
     "metadata": {},
     "output_type": "execute_result"
    }
   ],
   "source": [
    "Upeak = 10**(-6) / A0\n"
   ]
  },
  {
   "cell_type": "code",
   "execution_count": 16,
   "metadata": {},
   "outputs": [],
   "source": [
    "def pulse_velocity(A):\n",
    "    return sqrt(beta/2/rho/A0) * np.power(A, 1/4)"
   ]
  },
  {
   "cell_type": "code",
   "execution_count": 27,
   "metadata": {
    "scrolled": true
   },
   "outputs": [
    {
     "data": {
      "text/plain": [
       "1417.9630807244125"
      ]
     },
     "execution_count": 27,
     "metadata": {},
     "output_type": "execute_result"
    }
   ],
   "source": [
    "beta"
   ]
  },
  {
   "cell_type": "code",
   "execution_count": 214,
   "metadata": {},
   "outputs": [],
   "source": [
    "dx = 2 * 0.001\n",
    "dt = 0.1 * 0.001\n",
    "nx = int(omega / dx) + 1\n",
    "nt = int(0.05/ dt) + 1"
   ]
  },
  {
   "cell_type": "code",
   "execution_count": 26,
   "metadata": {},
   "outputs": [
    {
     "data": {
      "text/plain": [
       "array([0., 0., 0., 0., 0., 0., 0., 0., 0., 0., 0., 0., 0., 0., 0., 0., 0.,\n",
       "       0., 0., 0., 0.])"
      ]
     },
     "execution_count": 26,
     "metadata": {},
     "output_type": "execute_result"
    }
   ],
   "source": [
    "A = A0 * np.ones(nx)\n",
    "beta / A0 * (np.sqrt(A) - sqrt(A0))"
   ]
  },
  {
   "cell_type": "code",
   "execution_count": 144,
   "metadata": {},
   "outputs": [
    {
     "data": {
      "text/plain": [
       "0.0003141592653589793"
      ]
     },
     "execution_count": 144,
     "metadata": {},
     "output_type": "execute_result"
    }
   ],
   "source": [
    "A0"
   ]
  },
  {
   "cell_type": "code",
   "execution_count": 218,
   "metadata": {},
   "outputs": [
    {
     "name": "stdout",
     "output_type": "stream",
     "text": [
      "0.0\n",
      "[4.42066983e-14 0.00000000e+00 0.00000000e+00 0.00000000e+00\n",
      " 0.00000000e+00 0.00000000e+00]\n",
      "\n",
      "0.0001\n",
      "[4.8851072e-14 0.0000000e+00 0.0000000e+00 0.0000000e+00 0.0000000e+00\n",
      " 0.0000000e+00]\n",
      "\n",
      "0.0002\n",
      "[5.39725899e-14 0.00000000e+00 0.00000000e+00 0.00000000e+00\n",
      " 0.00000000e+00 0.00000000e+00]\n",
      "\n",
      "0.0003\n",
      "[ 5.96191197e-14 -4.47411619e-15  4.47411619e-15  0.00000000e+00\n",
      "  0.00000000e+00  0.00000000e+00]\n",
      "\n",
      "0.0004\n",
      "[ 6.58432109e-14 -1.34223486e-14  1.34223486e-14  0.00000000e+00\n",
      "  0.00000000e+00  0.00000000e+00]\n",
      "\n"
     ]
    }
   ],
   "source": [
    "A = A0 * np.ones(nx)\n",
    "U = np.zeros(nx)\n",
    "Pn = np.zeros(nx)\n",
    "\n",
    "for n in range(5):\n",
    "    Un = U.copy()\n",
    "    An = A.copy()\n",
    "    Qn = np.multiply(An, Un)\n",
    "    Qn[0] = 10 **(-6) * exp(-1 * ((100* n * dt - 5) ** 2)) ## Qin(t)\n",
    "    Un[0] = Qn[0] / An[0]\n",
    "    U[0] = Un[0]\n",
    "    Pn = beta / A0 * (np.sqrt(An) - sqrt(A0))\n",
    "    #print(n, AUn[0], Un[0])\n",
    "    for i in range(1, nx):\n",
    "        A[i] = An[i] + dt/dx * (Qn[i] - Qn[i-1])\n",
    "        U[i] = Un[i] + Un[i]*dt/dx*(Un[i] - Un[i-1]) + dt / rho / dx *  (Pn[i] - Pn[i-1])\n",
    "        #print(Un[i]*dt/dx*(Un[i] - Un[i-1]))\n",
    "        #print(dt / rho / dx *  (Pn[i] - Pn[i-1]))\n",
    "    print(round(n * dt,5))\n",
    "    print(Un)\n",
    "    #plt.figure()\n",
    "    #plt.plot(np.linspace(0, omega, nx), U)\n",
    "    print()"
   ]
  },
  {
   "cell_type": "code",
   "execution_count": 163,
   "metadata": {},
   "outputs": [
    {
     "data": {
      "text/plain": [
       "4.761904761904762e-05"
      ]
     },
     "execution_count": 163,
     "metadata": {},
     "output_type": "execute_result"
    }
   ],
   "source": [
    "dt/dx / rho"
   ]
  },
  {
   "cell_type": "code",
   "execution_count": null,
   "metadata": {},
   "outputs": [],
   "source": []
  }
 ],
 "metadata": {
  "kernelspec": {
   "display_name": "Python 3",
   "language": "python",
   "name": "python3"
  },
  "language_info": {
   "codemirror_mode": {
    "name": "ipython",
    "version": 3
   },
   "file_extension": ".py",
   "mimetype": "text/x-python",
   "name": "python",
   "nbconvert_exporter": "python",
   "pygments_lexer": "ipython3",
   "version": "3.6.4"
  }
 },
 "nbformat": 4,
 "nbformat_minor": 2
}